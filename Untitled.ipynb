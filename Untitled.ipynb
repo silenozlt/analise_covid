{
 "cells": [
  {
   "cell_type": "markdown",
   "metadata": {},
   "source": [
    "### link para baixar dados \n",
    "### https://brasil.io/dataset/covid19/caso/?search=&date=&state=MG&city=&place_type=&is_last=&city_ibge_code=&order_for_place=\n"
   ]
  },
  {
   "cell_type": "markdown",
   "metadata": {},
   "source": [
    "# Analise caso de Covid19 - Minas Gerais"
   ]
  },
  {
   "cell_type": "code",
   "execution_count": 1,
   "metadata": {},
   "outputs": [],
   "source": [
    "import pandas as pd"
   ]
  },
  {
   "cell_type": "code",
   "execution_count": 10,
   "metadata": {},
   "outputs": [
    {
     "data": {
      "text/html": [
       "<div>\n",
       "<style scoped>\n",
       "    .dataframe tbody tr th:only-of-type {\n",
       "        vertical-align: middle;\n",
       "    }\n",
       "\n",
       "    .dataframe tbody tr th {\n",
       "        vertical-align: top;\n",
       "    }\n",
       "\n",
       "    .dataframe thead th {\n",
       "        text-align: right;\n",
       "    }\n",
       "</style>\n",
       "<table border=\"1\" class=\"dataframe\">\n",
       "  <thead>\n",
       "    <tr style=\"text-align: right;\">\n",
       "      <th></th>\n",
       "      <th>date</th>\n",
       "      <th>state</th>\n",
       "      <th>city</th>\n",
       "      <th>place_type</th>\n",
       "      <th>confirmed</th>\n",
       "      <th>deaths</th>\n",
       "      <th>is_last</th>\n",
       "      <th>estimated_population_2019</th>\n",
       "      <th>city_ibge_code</th>\n",
       "      <th>confirmed_per_100k_inhabitants</th>\n",
       "      <th>death_rate</th>\n",
       "    </tr>\n",
       "  </thead>\n",
       "  <tbody>\n",
       "    <tr>\n",
       "      <th>0</th>\n",
       "      <td>2020-05-03</td>\n",
       "      <td>MG</td>\n",
       "      <td>Abaeté</td>\n",
       "      <td>city</td>\n",
       "      <td>1</td>\n",
       "      <td>0</td>\n",
       "      <td>True</td>\n",
       "      <td>23237.0</td>\n",
       "      <td>3100203.0</td>\n",
       "      <td>4.30348</td>\n",
       "      <td>0.0</td>\n",
       "    </tr>\n",
       "    <tr>\n",
       "      <th>1</th>\n",
       "      <td>2020-05-03</td>\n",
       "      <td>MG</td>\n",
       "      <td>Além Paraíba</td>\n",
       "      <td>city</td>\n",
       "      <td>7</td>\n",
       "      <td>0</td>\n",
       "      <td>True</td>\n",
       "      <td>35362.0</td>\n",
       "      <td>3101508.0</td>\n",
       "      <td>19.79526</td>\n",
       "      <td>0.0</td>\n",
       "    </tr>\n",
       "    <tr>\n",
       "      <th>2</th>\n",
       "      <td>2020-05-03</td>\n",
       "      <td>MG</td>\n",
       "      <td>Alfenas</td>\n",
       "      <td>city</td>\n",
       "      <td>6</td>\n",
       "      <td>0</td>\n",
       "      <td>True</td>\n",
       "      <td>79996.0</td>\n",
       "      <td>3101607.0</td>\n",
       "      <td>7.50038</td>\n",
       "      <td>0.0</td>\n",
       "    </tr>\n",
       "    <tr>\n",
       "      <th>3</th>\n",
       "      <td>2020-05-03</td>\n",
       "      <td>MG</td>\n",
       "      <td>Almenara</td>\n",
       "      <td>city</td>\n",
       "      <td>6</td>\n",
       "      <td>0</td>\n",
       "      <td>True</td>\n",
       "      <td>41896.0</td>\n",
       "      <td>3101706.0</td>\n",
       "      <td>14.32118</td>\n",
       "      <td>0.0</td>\n",
       "    </tr>\n",
       "    <tr>\n",
       "      <th>4</th>\n",
       "      <td>2020-05-03</td>\n",
       "      <td>MG</td>\n",
       "      <td>Alpercata</td>\n",
       "      <td>city</td>\n",
       "      <td>1</td>\n",
       "      <td>0</td>\n",
       "      <td>True</td>\n",
       "      <td>7424.0</td>\n",
       "      <td>3101805.0</td>\n",
       "      <td>13.46983</td>\n",
       "      <td>0.0</td>\n",
       "    </tr>\n",
       "  </tbody>\n",
       "</table>\n",
       "</div>"
      ],
      "text/plain": [
       "         date state          city place_type  confirmed  deaths  is_last  \\\n",
       "0  2020-05-03    MG        Abaeté       city          1       0     True   \n",
       "1  2020-05-03    MG  Além Paraíba       city          7       0     True   \n",
       "2  2020-05-03    MG       Alfenas       city          6       0     True   \n",
       "3  2020-05-03    MG      Almenara       city          6       0     True   \n",
       "4  2020-05-03    MG     Alpercata       city          1       0     True   \n",
       "\n",
       "   estimated_population_2019  city_ibge_code  confirmed_per_100k_inhabitants  \\\n",
       "0                    23237.0       3100203.0                         4.30348   \n",
       "1                    35362.0       3101508.0                        19.79526   \n",
       "2                    79996.0       3101607.0                         7.50038   \n",
       "3                    41896.0       3101706.0                        14.32118   \n",
       "4                     7424.0       3101805.0                        13.46983   \n",
       "\n",
       "   death_rate  \n",
       "0         0.0  \n",
       "1         0.0  \n",
       "2         0.0  \n",
       "3         0.0  \n",
       "4         0.0  "
      ]
     },
     "execution_count": 10,
     "metadata": {},
     "output_type": "execute_result"
    }
   ],
   "source": [
    "covid = pd.read_csv(\"dataset/covid19-083a6de0151147d1975210d003da0adc.csv\")\n",
    "covid.head()"
   ]
  },
  {
   "cell_type": "markdown",
   "metadata": {},
   "source": [
    "### Ajustando Colunas\n"
   ]
  },
  {
   "cell_type": "code",
   "execution_count": 11,
   "metadata": {},
   "outputs": [
    {
     "data": {
      "text/html": [
       "<div>\n",
       "<style scoped>\n",
       "    .dataframe tbody tr th:only-of-type {\n",
       "        vertical-align: middle;\n",
       "    }\n",
       "\n",
       "    .dataframe tbody tr th {\n",
       "        vertical-align: top;\n",
       "    }\n",
       "\n",
       "    .dataframe thead th {\n",
       "        text-align: right;\n",
       "    }\n",
       "</style>\n",
       "<table border=\"1\" class=\"dataframe\">\n",
       "  <thead>\n",
       "    <tr style=\"text-align: right;\">\n",
       "      <th></th>\n",
       "      <th>data</th>\n",
       "      <th>cidade</th>\n",
       "      <th>casos</th>\n",
       "      <th>mortes</th>\n",
       "      <th>populacao</th>\n",
       "      <th>habitantes_por_100k</th>\n",
       "    </tr>\n",
       "  </thead>\n",
       "  <tbody>\n",
       "    <tr>\n",
       "      <th>0</th>\n",
       "      <td>2020-05-03</td>\n",
       "      <td>Abaeté</td>\n",
       "      <td>1</td>\n",
       "      <td>0</td>\n",
       "      <td>23237.0</td>\n",
       "      <td>4.30348</td>\n",
       "    </tr>\n",
       "    <tr>\n",
       "      <th>1</th>\n",
       "      <td>2020-05-03</td>\n",
       "      <td>Além Paraíba</td>\n",
       "      <td>7</td>\n",
       "      <td>0</td>\n",
       "      <td>35362.0</td>\n",
       "      <td>19.79526</td>\n",
       "    </tr>\n",
       "    <tr>\n",
       "      <th>2</th>\n",
       "      <td>2020-05-03</td>\n",
       "      <td>Alfenas</td>\n",
       "      <td>6</td>\n",
       "      <td>0</td>\n",
       "      <td>79996.0</td>\n",
       "      <td>7.50038</td>\n",
       "    </tr>\n",
       "    <tr>\n",
       "      <th>3</th>\n",
       "      <td>2020-05-03</td>\n",
       "      <td>Almenara</td>\n",
       "      <td>6</td>\n",
       "      <td>0</td>\n",
       "      <td>41896.0</td>\n",
       "      <td>14.32118</td>\n",
       "    </tr>\n",
       "    <tr>\n",
       "      <th>4</th>\n",
       "      <td>2020-05-03</td>\n",
       "      <td>Alpercata</td>\n",
       "      <td>1</td>\n",
       "      <td>0</td>\n",
       "      <td>7424.0</td>\n",
       "      <td>13.46983</td>\n",
       "    </tr>\n",
       "  </tbody>\n",
       "</table>\n",
       "</div>"
      ],
      "text/plain": [
       "         data        cidade  casos  mortes  populacao  habitantes_por_100k\n",
       "0  2020-05-03        Abaeté      1       0    23237.0              4.30348\n",
       "1  2020-05-03  Além Paraíba      7       0    35362.0             19.79526\n",
       "2  2020-05-03       Alfenas      6       0    79996.0              7.50038\n",
       "3  2020-05-03      Almenara      6       0    41896.0             14.32118\n",
       "4  2020-05-03     Alpercata      1       0     7424.0             13.46983"
      ]
     },
     "execution_count": 11,
     "metadata": {},
     "output_type": "execute_result"
    }
   ],
   "source": [
    "covid_ref = covid[['date', 'city', 'confirmed', 'deaths', 'estimated_population_2019', 'confirmed_per_100k_inhabitants']]\n",
    "covid_ref.columns = ['data', 'cidade', 'casos', 'mortes', 'populacao', 'habitantes_por_100k' ]\n",
    "covid = covid_ref.dropna()\n",
    "covid.head()"
   ]
  },
  {
   "cell_type": "markdown",
   "metadata": {},
   "source": [
    "### Buscando Dados da Cidade de Sabara\n"
   ]
  },
  {
   "cell_type": "code",
   "execution_count": 22,
   "metadata": {},
   "outputs": [
    {
     "data": {
      "text/html": [
       "<div>\n",
       "<style scoped>\n",
       "    .dataframe tbody tr th:only-of-type {\n",
       "        vertical-align: middle;\n",
       "    }\n",
       "\n",
       "    .dataframe tbody tr th {\n",
       "        vertical-align: top;\n",
       "    }\n",
       "\n",
       "    .dataframe thead th {\n",
       "        text-align: right;\n",
       "    }\n",
       "</style>\n",
       "<table border=\"1\" class=\"dataframe\">\n",
       "  <thead>\n",
       "    <tr style=\"text-align: right;\">\n",
       "      <th></th>\n",
       "      <th>data</th>\n",
       "      <th>casos</th>\n",
       "      <th>mortes</th>\n",
       "    </tr>\n",
       "  </thead>\n",
       "  <tbody>\n",
       "    <tr>\n",
       "      <th>152</th>\n",
       "      <td>2020-05-03</td>\n",
       "      <td>14</td>\n",
       "      <td>0</td>\n",
       "    </tr>\n",
       "    <tr>\n",
       "      <th>341</th>\n",
       "      <td>2020-05-02</td>\n",
       "      <td>14</td>\n",
       "      <td>0</td>\n",
       "    </tr>\n",
       "    <tr>\n",
       "      <th>527</th>\n",
       "      <td>2020-05-01</td>\n",
       "      <td>14</td>\n",
       "      <td>0</td>\n",
       "    </tr>\n",
       "    <tr>\n",
       "      <th>709</th>\n",
       "      <td>2020-04-30</td>\n",
       "      <td>13</td>\n",
       "      <td>0</td>\n",
       "    </tr>\n",
       "    <tr>\n",
       "      <th>887</th>\n",
       "      <td>2020-04-29</td>\n",
       "      <td>12</td>\n",
       "      <td>0</td>\n",
       "    </tr>\n",
       "  </tbody>\n",
       "</table>\n",
       "</div>"
      ],
      "text/plain": [
       "           data  casos  mortes\n",
       "152  2020-05-03     14       0\n",
       "341  2020-05-02     14       0\n",
       "527  2020-05-01     14       0\n",
       "709  2020-04-30     13       0\n",
       "887  2020-04-29     12       0"
      ]
     },
     "execution_count": 22,
     "metadata": {},
     "output_type": "execute_result"
    }
   ],
   "source": [
    "covid_sabara = covid.query(\"cidade=='Sabará'\")\n",
    "covid_casos_sabara = covid_sabara[[\"data\", \"casos\", \"mortes\"]]\n",
    "covid_casos_sabara.head()"
   ]
  },
  {
   "cell_type": "code",
   "execution_count": 23,
   "metadata": {},
   "outputs": [
    {
     "data": {
      "text/plain": [
       "<matplotlib.axes._subplots.AxesSubplot at 0x1183e0190>"
      ]
     },
     "execution_count": 23,
     "metadata": {},
     "output_type": "execute_result"
    },
    {
     "data": {
      "image/png": "[encoded data removed]",
      "text/plain": [
       "<Figure size 1080x720 with 1 Axes>"
      ]
     },
     "metadata": {
      "needs_background": "light"
     },
     "output_type": "display_data"
    }
   ],
   "source": [
    "covid_casos_sabara = covid_casos_sabara.sort_values(by=\"data\")\n",
    "covid_casos_sabara.plot.area(x=\"data\", y=[\"mortes\", \"casos\"], figsize=(15,10), title=\"Covid Sabará\", grid=True)"
   ]
  },
  {
   "cell_type": "code",
   "execution_count": null,
   "metadata": {},
   "outputs": [],
   "source": []
  }
 ],
 "metadata": {
  "kernelspec": {
   "display_name": "Python 3",
   "language": "python",
   "name": "python3"
  },
  "language_info": {
   "codemirror_mode": {
    "name": "ipython",
    "version": 3
   },
   "file_extension": ".py",
   "mimetype": "text/x-python",
   "name": "python",
   "nbconvert_exporter": "python",
   "pygments_lexer": "ipython3",
   "version": "3.7.6"
  }
 },
 "nbformat": 4,
 "nbformat_minor": 4
}
